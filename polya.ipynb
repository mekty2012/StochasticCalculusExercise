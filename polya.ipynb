{
 "cells": [
  {
   "cell_type": "code",
   "execution_count": null,
   "metadata": {},
   "outputs": [],
   "source": [
    "import random\n",
    "\n",
    "def simulate_polya(n):\n",
    "  # n : number of steps\n",
    "  # return : list of ratio\n",
    "\n",
    "  res = [1/2]\n",
    "  current = (1, 1)\n",
    "\n",
    "  for _ in range(n):\n",
    "    p = random.random()\n",
    "    if p < current[0] / (current[0] + current[1]):\n",
    "      current = (current[0] + 1, current[1])\n",
    "      res.append(current[0] / (current[0] + current[1]))\n",
    "    else:\n",
    "      current = (current[0], current[1] + 1)\n",
    "      res.append(current[0] / (current[0] + current[1]))\n",
    "  \n",
    "  return res"
   ]
  },
  {
   "cell_type": "code",
   "execution_count": null,
   "metadata": {},
   "outputs": [],
   "source": [
    "import matplotlib.pyplot as plt\n",
    "\n",
    "seqs = [simulate_polya(1200) for _ in range(100)]\n",
    "\n",
    "figure = plt.figure()\n",
    "\n",
    "for seq in seqs:\n",
    "  plt.plot(seq, color='b', alpha=0.1)"
   ]
  },
  {
   "cell_type": "code",
   "execution_count": null,
   "metadata": {},
   "outputs": [],
   "source": [
    "ts_600 = [seq[600] for seq in seqs]\n",
    "ts_1200 = [seq[1200] for seq in seqs]\n",
    "\n",
    "plt.scatter(ts_600, ts_1200, s=1)\n",
    "plt.xlim(0, 1)\n",
    "plt.ylim(0, 1)\n",
    "\n",
    "plt.xlabel('t=600')\n",
    "plt.ylabel('t=1200')"
   ]
  }
 ],
 "metadata": {
  "kernelspec": {
   "display_name": "Python 3",
   "language": "python",
   "name": "python3"
  },
  "language_info": {
   "codemirror_mode": {
    "name": "ipython",
    "version": 3
   },
   "file_extension": ".py",
   "mimetype": "text/x-python",
   "name": "python",
   "nbconvert_exporter": "python",
   "pygments_lexer": "ipython3",
   "version": "3.9.6"
  }
 },
 "nbformat": 4,
 "nbformat_minor": 2
}
